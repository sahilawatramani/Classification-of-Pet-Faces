{
 "cells": [
  {
   "cell_type": "code",
   "execution_count": null,
   "id": "03503e86",
   "metadata": {},
   "outputs": [],
   "source": [
    "import numpy as np\n",
    "import pandas as pd\n",
    "import matplotlib.pyplot as plt\n",
    "import matplotlib.image as image\n",
    "import glob\n",
    "import os"
   ]
  },
  {
   "cell_type": "code",
   "execution_count": null,
   "id": "60c88ea5",
   "metadata": {},
   "outputs": [],
   "source": [
    "images_fp='./images'"
   ]
  },
  {
   "cell_type": "code",
   "execution_count": null,
   "id": "cb44476d",
   "metadata": {},
   "outputs": [],
   "source": [
    "image_names=[os.path.basename(file) for file in glob.glob(os.path.join(image_names,'.jpg'))]"
   ]
  },
  {
   "cell_type": "code",
   "execution_count": null,
   "id": "3f765f1f",
   "metadata": {},
   "outputs": [],
   "source": [
    "labels=[''.join(name.split('_')[:-1:])for name in image_names]"
   ]
  },
  {
   "cell_type": "code",
   "execution_count": null,
   "id": "3ef99b94",
   "metadata": {},
   "outputs": [],
   "source": [
    "def label_encode(label):\n",
    "    elif label=='Abyssinian':return 0\n",
    "    elif label=='Bengal':return 1\n",
    "    elif label=='Berman':return 2\n",
    "    elif label=='Bombay':return 3\n",
    "    elif label=='British Shorthair':return 4\n",
    "    elif label=='Egyptian Mau':return 5\n",
    "    elif label=='american bulldog':return 6\n",
    "    elif label=='american pit bull terrier':return 7\n",
    "    elif label=='basset hound':return 8\n",
    "    elif label=='beagle':return 9\n",
    "    elif label=='boxer':return 10\n",
    "    elif label=='chihuahua':return 11\n",
    "    elif label=='english cocker spaniel':return 12\n",
    "    elif label=='english setter':return 13\n",
    "    elif label=='german shorthaired':return 14\n",
    "    elif label=='great pyrenees':return 15"
   ]
  },
  {
   "cell_type": "code",
   "execution_count": null,
   "id": "0c929b4d",
   "metadata": {},
   "outputs": [],
   "source": [
    "import tensorflow as tf\n",
    "from tensorflow.keras.preprocessing import load_img,img_to_array"
   ]
  },
  {
   "cell_type": "code",
   "execution_count": null,
   "id": "75ecfdbd",
   "metadata": {},
   "outputs": [],
   "source": [
    "features=[]\n",
    "labels=[]\n",
    "IMAGE_SIZE=(224,224)\n",
    "for name in image_names:\n",
    "    label=' '.join(name.split('_')[:-1:])\n",
    "    \n",
    "    label_encoded=label_encode(label)\n",
    "    if label_encoded!=None:\n",
    "        img=load_img(os.path.join(images_fp,name))\n",
    "        img=tf.image.resize_with_pad(img_to_array(img,dtype='uint8'),*IMAGE_SIZE).numpy().astype('uint8')\n",
    "        image=np.array(img)\n",
    "        features.append(image)\n",
    "        labels.append(label_encoded)"
   ]
  },
  {
   "cell_type": "code",
   "execution_count": null,
   "id": "f1d018c8",
   "metadata": {},
   "outputs": [],
   "source": [
    "features_array=np.array(features)\n",
    "labels_array=np.array(labels)"
   ]
  },
  {
   "cell_type": "code",
   "execution_count": null,
   "id": "c5d759ca",
   "metadata": {},
   "outputs": [],
   "source": [
    "labels_one_hot=pd.get_dummies(labels_array)"
   ]
  },
  {
   "cell_type": "code",
   "execution_count": null,
   "id": "1780c86c",
   "metadata": {},
   "outputs": [],
   "source": [
    "from sklearn.model_selection import train_test_split\n",
    "x_train,x_test,y_train,y_test=train_test_split()\n",
    "x_train,x_test,y_train,y_test=train_test_split(features_array,labels_one_hot,test_size=0.2,random_state=42)\n",
    "x_train,x_val,y_train,y_val=train_test_split(x_train,y_train,test_size=0.25,random_state=1)"
   ]
  },
  {
   "cell_type": "code",
   "execution_count": 2,
   "id": "d070c9da",
   "metadata": {},
   "outputs": [
    {
     "name": "stdout",
     "output_type": "stream",
     "text": [
      "WARNING:tensorflow:From C:\\Users\\Victus\\anaconda3\\Lib\\site-packages\\keras\\src\\losses.py:2976: The name tf.losses.sparse_softmax_cross_entropy is deprecated. Please use tf.compat.v1.losses.sparse_softmax_cross_entropy instead.\n",
      "\n"
     ]
    },
    {
     "ename": "ImportError",
     "evalue": "cannot import name 'layers' from 'tensorflow' (C:\\Users\\Victus\\anaconda3\\Lib\\site-packages\\tensorflow\\__init__.py)",
     "output_type": "error",
     "traceback": [
      "\u001b[1;31m---------------------------------------------------------------------------\u001b[0m",
      "\u001b[1;31mImportError\u001b[0m                               Traceback (most recent call last)",
      "Cell \u001b[1;32mIn[2], line 1\u001b[0m\n\u001b[1;32m----> 1\u001b[0m \u001b[38;5;28;01mfrom\u001b[39;00m \u001b[38;5;21;01mtensorflow\u001b[39;00m \u001b[38;5;28;01mimport\u001b[39;00m layers,model,Input\n\u001b[0;32m      2\u001b[0m \u001b[38;5;28;01mfrom\u001b[39;00m \u001b[38;5;21;01mtensorflow\u001b[39;00m\u001b[38;5;21;01m.\u001b[39;00m\u001b[38;5;21;01mkeras\u001b[39;00m\u001b[38;5;21;01m.\u001b[39;00m\u001b[38;5;21;01mmodels\u001b[39;00m \u001b[38;5;28;01mimport\u001b[39;00m sequential\n\u001b[0;32m      3\u001b[0m \u001b[38;5;28;01mfrom\u001b[39;00m \u001b[38;5;21;01mtensorflow\u001b[39;00m\u001b[38;5;21;01m.\u001b[39;00m\u001b[38;5;21;01mkeras\u001b[39;00m\u001b[38;5;21;01m.\u001b[39;00m\u001b[38;5;21;01mapplications\u001b[39;00m \u001b[38;5;28;01mimport\u001b[39;00m ResNet50\n",
      "\u001b[1;31mImportError\u001b[0m: cannot import name 'layers' from 'tensorflow' (C:\\Users\\Victus\\anaconda3\\Lib\\site-packages\\tensorflow\\__init__.py)"
     ]
    }
   ],
   "source": [
    "from tensorflow import layers,model,Input\n",
    "from tensorflow.keras.models import sequential\n",
    "from tensorflow.keras.applications import ResNet50\n",
    "from tensorflow.keras.applications.ResNet50 import preprocess_input as pp_i\n",
    "from tensorflow.keras.layers import RandomFlip,RandomRotation,Dense,Dropout\n",
    "from tensorflow.keras.losses import categoricalCrossentropy\n",
    "from tensorflow.keras.optimizers import Adam\n"
   ]
  },
  {
   "cell_type": "code",
   "execution_count": null,
   "id": "083c0290",
   "metadata": {},
   "outputs": [],
   "source": [
    "data_augmentation=Sequential([RandomFlip(\"horizontal_and_vertical\"),RandomRotation(0.2)])\n",
    "prediction_layers=Dense(16,activation='softmax')"
   ]
  },
  {
   "cell_type": "code",
   "execution_count": null,
   "id": "c230b57a",
   "metadata": {},
   "outputs": [],
   "source": [
    "resnet_model=ResNet50(include_top-False,pooling='avg',weights='imagenet')\n",
    "resnet_model.trainable=False\n",
    "preprocess_input=pp_i"
   ]
  },
  {
   "cell_type": "code",
   "execution_count": null,
   "id": "f7886288",
   "metadata": {},
   "outputs": [],
   "source": [
    "inputs=Input(shape=(224,224,3))\n",
    "x=data_augmentation(inputs)\n",
    "x=preprocess_input(x)\n",
    "x=resnet_model(x,training=False)\n",
    "x=Dropout(0.2)(x)\n",
    "outputs=prediction_layers(x)\n",
    "model=Model(inputs,outputs)"
   ]
  },
  {
   "cell_type": "code",
   "execution_count": null,
   "id": "5911171c",
   "metadata": {},
   "outputs": [],
   "source": [
    "model.compile(optimizer=Adam(),loss=CategoricalCrossentropy(),metrics=['accuracy'])\n",
    "model_history=model.fit(x=X_train,y=y_train,validation_data=(X_val,y_val),epochs=10)"
   ]
  },
  {
   "cell_type": "code",
   "execution_count": null,
   "id": "afd2be15",
   "metadata": {},
   "outputs": [],
   "source": [
    "acc=model_history.history['accuracy']\n",
    "val_acc=model_history.history['val_accuracy']\n",
    "loss=model_history.history['loss']\n",
    "val_loss=model_history.history['val_loss']"
   ]
  },
  {
   "cell_type": "code",
   "execution_count": null,
   "id": "791f0a8d",
   "metadata": {},
   "outputs": [],
   "source": [
    "epochs_range=range(10)\n",
    "plt.figure(figsize=(15,8))\n",
    "plt.subplot(1,2,1)\n",
    "plt.plot(epochs_range,acc,label='Training accuracy')\n",
    "plt.plot(epochs_range,val_acc,label='Validation accuracy')\n",
    "plt.legend(loc='upper right')\n",
    "plt.title('Training and Validation Loss')"
   ]
  },
  {
   "cell_type": "code",
   "execution_count": null,
   "id": "9678884a",
   "metadata": {},
   "outputs": [],
   "source": [
    "model.evaluate(x_test,y_test)"
   ]
  },
  {
   "cell_type": "code",
   "execution_count": null,
   "id": "c10fc5f4",
   "metadata": {},
   "outputs": [],
   "source": [
    "y_pred=model.predict(X_test)\n",
    "y_pred"
   ]
  }
 ],
 "metadata": {
  "kernelspec": {
   "display_name": "Python 3 (ipykernel)",
   "language": "python",
   "name": "python3"
  },
  "language_info": {
   "codemirror_mode": {
    "name": "ipython",
    "version": 3
   },
   "file_extension": ".py",
   "mimetype": "text/x-python",
   "name": "python",
   "nbconvert_exporter": "python",
   "pygments_lexer": "ipython3",
   "version": "3.11.5"
  }
 },
 "nbformat": 4,
 "nbformat_minor": 5
}
